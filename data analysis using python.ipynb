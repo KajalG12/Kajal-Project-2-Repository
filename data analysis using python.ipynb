{
 "cells": [
  {
   "cell_type": "code",
   "execution_count": 2,
   "metadata": {},
   "outputs": [
    {
     "name": "stderr",
     "output_type": "stream",
     "text": [
      "c:\\Users\\ajink\\AppData\\Local\\Programs\\Python\\Python310\\lib\\site-packages\\openpyxl\\worksheet\\_reader.py:312: UserWarning: Unknown extension is not supported and will be removed\n",
      "  warn(msg)\n"
     ]
    },
    {
     "data": {
      "text/html": [
       "<div><div id=5addcd18-5b12-4eb8-b6f1-2cfff90d2749 style=\"display:none; background-color:#9D6CFF; color:white; width:200px; height:30px; padding-left:5px; border-radius:4px; flex-direction:row; justify-content:space-around; align-items:center;\" onmouseover=\"this.style.backgroundColor='#BA9BF8'\" onmouseout=\"this.style.backgroundColor='#9D6CFF'\" onclick=\"window.commands?.execute('create-mitosheet-from-dataframe-output');\">See Full Dataframe in Mito</div> <script> if (window.commands?.hasCommand('create-mitosheet-from-dataframe-output')) document.getElementById('5addcd18-5b12-4eb8-b6f1-2cfff90d2749').style.display = 'flex' </script> <table border=\"1\" class=\"dataframe\">\n",
       "  <thead>\n",
       "    <tr style=\"text-align: right;\">\n",
       "      <th></th>\n",
       "      <th>Absolute Discount</th>\n",
       "      <th>Billing Country</th>\n",
       "      <th>Close Date Year</th>\n",
       "      <th>List Price</th>\n",
       "      <th>Opportunity Type</th>\n",
       "      <th>Product Family</th>\n",
       "      <th>Product Name</th>\n",
       "      <th>Quantity</th>\n",
       "      <th>Sales Price</th>\n",
       "      <th>Total List Price</th>\n",
       "      <th>Total Price</th>\n",
       "    </tr>\n",
       "  </thead>\n",
       "  <tbody>\n",
       "    <tr>\n",
       "      <th>0</th>\n",
       "      <td>0</td>\n",
       "      <td>USA</td>\n",
       "      <td>2029</td>\n",
       "      <td>0</td>\n",
       "      <td>New Business / Add-on</td>\n",
       "      <td>NaN</td>\n",
       "      <td>NaN</td>\n",
       "      <td>0</td>\n",
       "      <td>0</td>\n",
       "      <td>0</td>\n",
       "      <td>0</td>\n",
       "    </tr>\n",
       "    <tr>\n",
       "      <th>1</th>\n",
       "      <td>436275</td>\n",
       "      <td>USA</td>\n",
       "      <td>2029</td>\n",
       "      <td>450</td>\n",
       "      <td>Existing Business</td>\n",
       "      <td>Phones</td>\n",
       "      <td>Space phone 2</td>\n",
       "      <td>1939</td>\n",
       "      <td>225</td>\n",
       "      <td>872550</td>\n",
       "      <td>436275</td>\n",
       "    </tr>\n",
       "    <tr>\n",
       "      <th>2</th>\n",
       "      <td>306600</td>\n",
       "      <td>USA</td>\n",
       "      <td>2029</td>\n",
       "      <td>1600</td>\n",
       "      <td>Existing Business</td>\n",
       "      <td>Laptops</td>\n",
       "      <td>Pro laptop</td>\n",
       "      <td>1533</td>\n",
       "      <td>1400</td>\n",
       "      <td>2452800</td>\n",
       "      <td>2146200</td>\n",
       "    </tr>\n",
       "    <tr>\n",
       "      <th>3</th>\n",
       "      <td>9070</td>\n",
       "      <td>USA</td>\n",
       "      <td>2029</td>\n",
       "      <td>100</td>\n",
       "      <td>Existing Business</td>\n",
       "      <td>Accessories</td>\n",
       "      <td>Keyboard</td>\n",
       "      <td>907</td>\n",
       "      <td>90</td>\n",
       "      <td>90700</td>\n",
       "      <td>81630</td>\n",
       "    </tr>\n",
       "    <tr>\n",
       "      <th>4</th>\n",
       "      <td>84600</td>\n",
       "      <td>Belgium</td>\n",
       "      <td>2029</td>\n",
       "      <td>550</td>\n",
       "      <td>New Business / Add-on</td>\n",
       "      <td>Phones</td>\n",
       "      <td>Space phone 3</td>\n",
       "      <td>1692</td>\n",
       "      <td>500</td>\n",
       "      <td>930600</td>\n",
       "      <td>846000</td>\n",
       "    </tr>\n",
       "    <tr>\n",
       "      <th>...</th>\n",
       "      <td>...</td>\n",
       "      <td>...</td>\n",
       "      <td>...</td>\n",
       "      <td>...</td>\n",
       "      <td>...</td>\n",
       "      <td>...</td>\n",
       "      <td>...</td>\n",
       "      <td>...</td>\n",
       "      <td>...</td>\n",
       "      <td>...</td>\n",
       "      <td>...</td>\n",
       "    </tr>\n",
       "    <tr>\n",
       "      <th>372</th>\n",
       "      <td>77100</td>\n",
       "      <td>Switzerland</td>\n",
       "      <td>2028</td>\n",
       "      <td>1000</td>\n",
       "      <td>New Business</td>\n",
       "      <td>Tablets</td>\n",
       "      <td>Light tablet 2</td>\n",
       "      <td>514</td>\n",
       "      <td>850</td>\n",
       "      <td>514000</td>\n",
       "      <td>436900</td>\n",
       "    </tr>\n",
       "    <tr>\n",
       "      <th>373</th>\n",
       "      <td>264400</td>\n",
       "      <td>Switzerland</td>\n",
       "      <td>2028</td>\n",
       "      <td>600</td>\n",
       "      <td>New Business</td>\n",
       "      <td>Tablets</td>\n",
       "      <td>Mini tablet</td>\n",
       "      <td>1322</td>\n",
       "      <td>400</td>\n",
       "      <td>793200</td>\n",
       "      <td>528800</td>\n",
       "    </tr>\n",
       "    <tr>\n",
       "      <th>374</th>\n",
       "      <td>385400</td>\n",
       "      <td>Canada</td>\n",
       "      <td>2029</td>\n",
       "      <td>800</td>\n",
       "      <td>New Business</td>\n",
       "      <td>Tablets</td>\n",
       "      <td>Light tablet</td>\n",
       "      <td>1927</td>\n",
       "      <td>600</td>\n",
       "      <td>1541600</td>\n",
       "      <td>1156200</td>\n",
       "    </tr>\n",
       "    <tr>\n",
       "      <th>375</th>\n",
       "      <td>270400</td>\n",
       "      <td>Belgium</td>\n",
       "      <td>2029</td>\n",
       "      <td>800</td>\n",
       "      <td>New Business / Add-on</td>\n",
       "      <td>Tablets</td>\n",
       "      <td>Light tablet</td>\n",
       "      <td>1352</td>\n",
       "      <td>600</td>\n",
       "      <td>1081600</td>\n",
       "      <td>811200</td>\n",
       "    </tr>\n",
       "    <tr>\n",
       "      <th>376</th>\n",
       "      <td>86600</td>\n",
       "      <td>Belgium</td>\n",
       "      <td>2029</td>\n",
       "      <td>1600</td>\n",
       "      <td>New Business / Add-on</td>\n",
       "      <td>Laptops</td>\n",
       "      <td>Pro laptop</td>\n",
       "      <td>433</td>\n",
       "      <td>1400</td>\n",
       "      <td>692800</td>\n",
       "      <td>606200</td>\n",
       "    </tr>\n",
       "  </tbody>\n",
       "</table></div>"
      ],
      "text/plain": [
       "     Absolute Discount Billing Country  Close Date Year  List Price  \\\n",
       "0                    0             USA             2029           0   \n",
       "1               436275             USA             2029         450   \n",
       "2               306600             USA             2029        1600   \n",
       "3                 9070             USA             2029         100   \n",
       "4                84600         Belgium             2029         550   \n",
       "..                 ...             ...              ...         ...   \n",
       "372              77100     Switzerland             2028        1000   \n",
       "373             264400     Switzerland             2028         600   \n",
       "374             385400          Canada             2029         800   \n",
       "375             270400         Belgium             2029         800   \n",
       "376              86600         Belgium             2029        1600   \n",
       "\n",
       "          Opportunity Type Product Family    Product Name  Quantity  \\\n",
       "0    New Business / Add-on            NaN             NaN         0   \n",
       "1        Existing Business         Phones   Space phone 2      1939   \n",
       "2        Existing Business        Laptops      Pro laptop      1533   \n",
       "3        Existing Business    Accessories        Keyboard       907   \n",
       "4    New Business / Add-on         Phones   Space phone 3      1692   \n",
       "..                     ...            ...             ...       ...   \n",
       "372           New Business        Tablets  Light tablet 2       514   \n",
       "373           New Business        Tablets     Mini tablet      1322   \n",
       "374           New Business        Tablets    Light tablet      1927   \n",
       "375  New Business / Add-on        Tablets    Light tablet      1352   \n",
       "376  New Business / Add-on        Laptops      Pro laptop       433   \n",
       "\n",
       "     Sales Price  Total List Price  Total Price  \n",
       "0              0                 0            0  \n",
       "1            225            872550       436275  \n",
       "2           1400           2452800      2146200  \n",
       "3             90             90700        81630  \n",
       "4            500            930600       846000  \n",
       "..           ...               ...          ...  \n",
       "372          850            514000       436900  \n",
       "373          400            793200       528800  \n",
       "374          600           1541600      1156200  \n",
       "375          600           1081600       811200  \n",
       "376         1400            692800       606200  \n",
       "\n",
       "[377 rows x 11 columns]"
      ]
     },
     "execution_count": 2,
     "metadata": {},
     "output_type": "execute_result"
    }
   ],
   "source": [
    "import pandas as pd  \n",
    "data=pd.read_excel('Wow-2023-02-Data.xlsx')\n",
    "data"
   ]
  },
  {
   "cell_type": "code",
   "execution_count": 3,
   "metadata": {},
   "outputs": [
    {
     "data": {
      "text/plain": [
       "(377, 11)"
      ]
     },
     "execution_count": 3,
     "metadata": {},
     "output_type": "execute_result"
    }
   ],
   "source": [
    "data.shape"
   ]
  },
  {
   "cell_type": "code",
   "execution_count": 4,
   "metadata": {},
   "outputs": [
    {
     "data": {
      "text/plain": [
       "Absolute Discount    331\n",
       "Billing Country       25\n",
       "Close Date Year        2\n",
       "List Price            45\n",
       "Opportunity Type       3\n",
       "Product Family         5\n",
       "Product Name          17\n",
       "Quantity             327\n",
       "Sales Price           49\n",
       "Total List Price     343\n",
       "Total Price          345\n",
       "dtype: int64"
      ]
     },
     "execution_count": 4,
     "metadata": {},
     "output_type": "execute_result"
    }
   ],
   "source": [
    "data.nunique()"
   ]
  },
  {
   "cell_type": "code",
   "execution_count": 5,
   "metadata": {},
   "outputs": [
    {
     "data": {
      "text/plain": [
       "Absolute Discount     int64\n",
       "Billing Country      object\n",
       "Close Date Year       int64\n",
       "List Price            int64\n",
       "Opportunity Type     object\n",
       "Product Family       object\n",
       "Product Name         object\n",
       "Quantity              int64\n",
       "Sales Price           int64\n",
       "Total List Price      int64\n",
       "Total Price           int64\n",
       "dtype: object"
      ]
     },
     "execution_count": 5,
     "metadata": {},
     "output_type": "execute_result"
    }
   ],
   "source": [
    "data.dtypes"
   ]
  },
  {
   "cell_type": "code",
   "execution_count": 6,
   "metadata": {},
   "outputs": [
    {
     "data": {
      "text/plain": [
       "Absolute Discount     0\n",
       "Billing Country       0\n",
       "Close Date Year       0\n",
       "List Price            0\n",
       "Opportunity Type      0\n",
       "Product Family       32\n",
       "Product Name         32\n",
       "Quantity              0\n",
       "Sales Price           0\n",
       "Total List Price      0\n",
       "Total Price           0\n",
       "dtype: int64"
      ]
     },
     "execution_count": 6,
     "metadata": {},
     "output_type": "execute_result"
    }
   ],
   "source": [
    "data.isnull().sum()"
   ]
  },
  {
   "attachments": {},
   "cell_type": "markdown",
   "metadata": {},
   "source": [
    "- Is there any duplicated value in the dataset?"
   ]
  },
  {
   "cell_type": "code",
   "execution_count": 7,
   "metadata": {},
   "outputs": [
    {
     "data": {
      "text/html": [
       "<div><div id=52e33749-1e4a-40a7-84a7-b288803a7b4b style=\"display:none; background-color:#9D6CFF; color:white; width:200px; height:30px; padding-left:5px; border-radius:4px; flex-direction:row; justify-content:space-around; align-items:center;\" onmouseover=\"this.style.backgroundColor='#BA9BF8'\" onmouseout=\"this.style.backgroundColor='#9D6CFF'\" onclick=\"window.commands?.execute('create-mitosheet-from-dataframe-output');\">See Full Dataframe in Mito</div> <script> if (window.commands?.hasCommand('create-mitosheet-from-dataframe-output')) document.getElementById('52e33749-1e4a-40a7-84a7-b288803a7b4b').style.display = 'flex' </script> <table border=\"1\" class=\"dataframe\">\n",
       "  <thead>\n",
       "    <tr style=\"text-align: right;\">\n",
       "      <th></th>\n",
       "      <th>Absolute Discount</th>\n",
       "      <th>Billing Country</th>\n",
       "      <th>Close Date Year</th>\n",
       "      <th>List Price</th>\n",
       "      <th>Opportunity Type</th>\n",
       "      <th>Product Family</th>\n",
       "      <th>Product Name</th>\n",
       "      <th>Quantity</th>\n",
       "      <th>Sales Price</th>\n",
       "      <th>Total List Price</th>\n",
       "      <th>Total Price</th>\n",
       "    </tr>\n",
       "  </thead>\n",
       "  <tbody>\n",
       "  </tbody>\n",
       "</table></div>"
      ],
      "text/plain": [
       "Empty DataFrame\n",
       "Columns: [Absolute Discount, Billing Country, Close Date Year, List Price, Opportunity Type, Product Family, Product Name, Quantity, Sales Price, Total List Price, Total Price]\n",
       "Index: []"
      ]
     },
     "execution_count": 7,
     "metadata": {},
     "output_type": "execute_result"
    }
   ],
   "source": [
    "data[data.duplicated()]"
   ]
  },
  {
   "attachments": {},
   "cell_type": "markdown",
   "metadata": {},
   "source": [
    "- Value count of 'Billing country'"
   ]
  },
  {
   "cell_type": "code",
   "execution_count": 8,
   "metadata": {},
   "outputs": [
    {
     "data": {
      "text/plain": [
       "Canada            59\n",
       "USA               57\n",
       "Japan             31\n",
       "China             17\n",
       "India             17\n",
       "Brazil            17\n",
       "Normway           16\n",
       "Germany           15\n",
       "Sweden            14\n",
       "Singapore         14\n",
       "Taiwan            14\n",
       "Denmark           13\n",
       "Mexico            10\n",
       "Belgium           10\n",
       "Thailand          10\n",
       "Switzerland        9\n",
       "Spain              9\n",
       "Italy              8\n",
       "Hong Kong          8\n",
       "Russian            7\n",
       "Australia          7\n",
       "United Kingdom     6\n",
       "Korea              5\n",
       "France             3\n",
       "Turkey             1\n",
       "Name: Billing Country, dtype: int64"
      ]
     },
     "execution_count": 8,
     "metadata": {},
     "output_type": "execute_result"
    }
   ],
   "source": [
    "data['Billing Country'].value_counts()"
   ]
  },
  {
   "cell_type": "code",
   "execution_count": 9,
   "metadata": {},
   "outputs": [
    {
     "data": {
      "text/plain": [
       "Billing Country\n",
       "Australia          2728690\n",
       "Belgium            6794540\n",
       "Brazil            14726190\n",
       "Canada            69382565\n",
       "China              6327135\n",
       "Denmark            7082485\n",
       "France              596230\n",
       "Germany            9064505\n",
       "Hong Kong          1917275\n",
       "India              8361160\n",
       "Italy              4378015\n",
       "Japan             21137030\n",
       "Korea              5960830\n",
       "Mexico             5003605\n",
       "Normway            7993050\n",
       "Russian            2730290\n",
       "Singapore          6068790\n",
       "Spain              7476425\n",
       "Sweden             6910030\n",
       "Switzerland        2474700\n",
       "Taiwan            14176735\n",
       "Thailand           5457090\n",
       "Turkey                   0\n",
       "USA               58807025\n",
       "United Kingdom     2675685\n",
       "Name: Total Price, dtype: int64"
      ]
     },
     "execution_count": 9,
     "metadata": {},
     "output_type": "execute_result"
    }
   ],
   "source": [
    "data.groupby('Billing Country')['Total Price'].sum()"
   ]
  },
  {
   "cell_type": "code",
   "execution_count": 10,
   "metadata": {},
   "outputs": [
    {
     "data": {
      "text/plain": [
       "<AxesSubplot: xlabel='Billing Country'>"
      ]
     },
     "execution_count": 10,
     "metadata": {},
     "output_type": "execute_result"
    },
    {
     "data": {
      "image/png": "[encoded data removed]",
      "text/plain": [
       "<Figure size 640x480 with 1 Axes>"
      ]
     },
     "metadata": {},
     "output_type": "display_data"
    }
   ],
   "source": [
    "data.groupby('Billing Country')['Total Price'].sum().plot(kind='bar')"
   ]
  },
  {
   "attachments": {},
   "cell_type": "markdown",
   "metadata": {},
   "source": [
    "- Value count of each 'Opprtunity type'"
   ]
  },
  {
   "cell_type": "code",
   "execution_count": 11,
   "metadata": {},
   "outputs": [
    {
     "data": {
      "text/plain": [
       "New Business             172\n",
       "New Business / Add-on    135\n",
       "Existing Business         70\n",
       "Name: Opportunity Type, dtype: int64"
      ]
     },
     "execution_count": 11,
     "metadata": {},
     "output_type": "execute_result"
    }
   ],
   "source": [
    "data['Opportunity Type'].value_counts()"
   ]
  },
  {
   "cell_type": "code",
   "execution_count": 12,
   "metadata": {},
   "outputs": [
    {
     "data": {
      "text/plain": [
       "Opportunity Type\n",
       "Existing Business         53882420\n",
       "New Business             127398700\n",
       "New Business / Add-on     96948955\n",
       "Name: Total Price, dtype: int64"
      ]
     },
     "execution_count": 12,
     "metadata": {},
     "output_type": "execute_result"
    }
   ],
   "source": [
    "data.groupby('Opportunity Type')['Total Price'].sum()"
   ]
  },
  {
   "attachments": {},
   "cell_type": "markdown",
   "metadata": {},
   "source": [
    "- Which business type grows well?"
   ]
  },
  {
   "cell_type": "code",
   "execution_count": 13,
   "metadata": {},
   "outputs": [
    {
     "data": {
      "text/plain": [
       "<AxesSubplot: ylabel='Total Price'>"
      ]
     },
     "execution_count": 13,
     "metadata": {},
     "output_type": "execute_result"
    },
    {
     "data": {
      "image/png": "[encoded data removed]",
      "text/plain": [
       "<Figure size 640x480 with 1 Axes>"
      ]
     },
     "metadata": {},
     "output_type": "display_data"
    }
   ],
   "source": [
    "data.groupby('Opportunity Type')['Total Price'].sum().plot(kind='pie')"
   ]
  },
  {
   "attachments": {},
   "cell_type": "markdown",
   "metadata": {},
   "source": [
    "- Value count of each product in 'Product Family'"
   ]
  },
  {
   "cell_type": "code",
   "execution_count": 14,
   "metadata": {},
   "outputs": [
    {
     "data": {
      "text/plain": [
       "Accessories      84\n",
       "Laptops          82\n",
       "Tablets          69\n",
       "Phones           57\n",
       "Digital Media    53\n",
       "Name: Product Family, dtype: int64"
      ]
     },
     "execution_count": 14,
     "metadata": {},
     "output_type": "execute_result"
    }
   ],
   "source": [
    "data['Product Family'].value_counts()"
   ]
  },
  {
   "cell_type": "code",
   "execution_count": 15,
   "metadata": {},
   "outputs": [
    {
     "data": {
      "text/plain": [
       "Product Family\n",
       "Accessories        8204845\n",
       "Digital Media     16409880\n",
       "Laptops          165314800\n",
       "Phones            33838450\n",
       "Tablets           54462100\n",
       "Name: Total Price, dtype: int64"
      ]
     },
     "execution_count": 15,
     "metadata": {},
     "output_type": "execute_result"
    }
   ],
   "source": [
    "data.groupby('Product Family')['Total Price'].sum()"
   ]
  },
  {
   "attachments": {},
   "cell_type": "markdown",
   "metadata": {},
   "source": [
    "- Which product has highest Price in dataset"
   ]
  },
  {
   "cell_type": "code",
   "execution_count": 16,
   "metadata": {},
   "outputs": [
    {
     "data": {
      "text/plain": [
       "<AxesSubplot: xlabel='Product Family'>"
      ]
     },
     "execution_count": 16,
     "metadata": {},
     "output_type": "execute_result"
    },
    {
     "data": {
      "image/png": "[encoded data removed]",
      "text/plain": [
       "<Figure size 640x480 with 1 Axes>"
      ]
     },
     "metadata": {},
     "output_type": "display_data"
    }
   ],
   "source": [
    "data.groupby('Product Family')['Total Price'].sum().plot(kind='bar')"
   ]
  },
  {
   "cell_type": "code",
   "execution_count": 17,
   "metadata": {},
   "outputs": [
    {
     "data": {
      "text/html": [
       "<div><div id=d9908e47-e0b3-482c-ad00-3cd539fc883b style=\"display:none; background-color:#9D6CFF; color:white; width:200px; height:30px; padding-left:5px; border-radius:4px; flex-direction:row; justify-content:space-around; align-items:center;\" onmouseover=\"this.style.backgroundColor='#BA9BF8'\" onmouseout=\"this.style.backgroundColor='#9D6CFF'\" onclick=\"window.commands?.execute('create-mitosheet-from-dataframe-output');\">See Full Dataframe in Mito</div> <script> if (window.commands?.hasCommand('create-mitosheet-from-dataframe-output')) document.getElementById('d9908e47-e0b3-482c-ad00-3cd539fc883b').style.display = 'flex' </script> <table border=\"1\" class=\"dataframe\">\n",
       "  <thead>\n",
       "    <tr style=\"text-align: right;\">\n",
       "      <th></th>\n",
       "      <th>Absolute Discount</th>\n",
       "      <th>Billing Country</th>\n",
       "      <th>Close Date Year</th>\n",
       "      <th>List Price</th>\n",
       "      <th>Opportunity Type</th>\n",
       "      <th>Product Family</th>\n",
       "      <th>Product Name</th>\n",
       "      <th>Quantity</th>\n",
       "      <th>Sales Price</th>\n",
       "      <th>Total List Price</th>\n",
       "      <th>Total Price</th>\n",
       "    </tr>\n",
       "  </thead>\n",
       "  <tbody>\n",
       "    <tr>\n",
       "      <th>0</th>\n",
       "      <td>0</td>\n",
       "      <td>USA</td>\n",
       "      <td>2029</td>\n",
       "      <td>0</td>\n",
       "      <td>New Business / Add-on</td>\n",
       "      <td>NaN</td>\n",
       "      <td>NaN</td>\n",
       "      <td>0</td>\n",
       "      <td>0</td>\n",
       "      <td>0</td>\n",
       "      <td>0</td>\n",
       "    </tr>\n",
       "    <tr>\n",
       "      <th>1</th>\n",
       "      <td>436275</td>\n",
       "      <td>USA</td>\n",
       "      <td>2029</td>\n",
       "      <td>450</td>\n",
       "      <td>Existing Business</td>\n",
       "      <td>Phones</td>\n",
       "      <td>Space phone 2</td>\n",
       "      <td>1939</td>\n",
       "      <td>225</td>\n",
       "      <td>872550</td>\n",
       "      <td>436275</td>\n",
       "    </tr>\n",
       "    <tr>\n",
       "      <th>2</th>\n",
       "      <td>306600</td>\n",
       "      <td>USA</td>\n",
       "      <td>2029</td>\n",
       "      <td>1600</td>\n",
       "      <td>Existing Business</td>\n",
       "      <td>Laptops</td>\n",
       "      <td>Pro laptop</td>\n",
       "      <td>1533</td>\n",
       "      <td>1400</td>\n",
       "      <td>2452800</td>\n",
       "      <td>2146200</td>\n",
       "    </tr>\n",
       "    <tr>\n",
       "      <th>3</th>\n",
       "      <td>9070</td>\n",
       "      <td>USA</td>\n",
       "      <td>2029</td>\n",
       "      <td>100</td>\n",
       "      <td>Existing Business</td>\n",
       "      <td>Accessories</td>\n",
       "      <td>Keyboard</td>\n",
       "      <td>907</td>\n",
       "      <td>90</td>\n",
       "      <td>90700</td>\n",
       "      <td>81630</td>\n",
       "    </tr>\n",
       "    <tr>\n",
       "      <th>4</th>\n",
       "      <td>84600</td>\n",
       "      <td>Belgium</td>\n",
       "      <td>2029</td>\n",
       "      <td>550</td>\n",
       "      <td>New Business / Add-on</td>\n",
       "      <td>Phones</td>\n",
       "      <td>Space phone 3</td>\n",
       "      <td>1692</td>\n",
       "      <td>500</td>\n",
       "      <td>930600</td>\n",
       "      <td>846000</td>\n",
       "    </tr>\n",
       "  </tbody>\n",
       "</table></div>"
      ],
      "text/plain": [
       "   Absolute Discount Billing Country  Close Date Year  List Price  \\\n",
       "0                  0             USA             2029           0   \n",
       "1             436275             USA             2029         450   \n",
       "2             306600             USA             2029        1600   \n",
       "3               9070             USA             2029         100   \n",
       "4              84600         Belgium             2029         550   \n",
       "\n",
       "        Opportunity Type Product Family   Product Name  Quantity  Sales Price  \\\n",
       "0  New Business / Add-on            NaN            NaN         0            0   \n",
       "1      Existing Business         Phones  Space phone 2      1939          225   \n",
       "2      Existing Business        Laptops     Pro laptop      1533         1400   \n",
       "3      Existing Business    Accessories       Keyboard       907           90   \n",
       "4  New Business / Add-on         Phones  Space phone 3      1692          500   \n",
       "\n",
       "   Total List Price  Total Price  \n",
       "0                 0            0  \n",
       "1            872550       436275  \n",
       "2           2452800      2146200  \n",
       "3             90700        81630  \n",
       "4            930600       846000  "
      ]
     },
     "execution_count": 17,
     "metadata": {},
     "output_type": "execute_result"
    }
   ],
   "source": [
    "data.head()"
   ]
  },
  {
   "attachments": {},
   "cell_type": "markdown",
   "metadata": {},
   "source": [
    "- Compare the 'Total Price' distribution for each 'Product Family'"
   ]
  },
  {
   "cell_type": "code",
   "execution_count": 29,
   "metadata": {},
   "outputs": [
    {
     "data": {
      "text/html": [
       "<div><div id=023233a9-53db-4099-95f6-96d5b336fdb7 style=\"display:none; background-color:#9D6CFF; color:white; width:200px; height:30px; padding-left:5px; border-radius:4px; flex-direction:row; justify-content:space-around; align-items:center;\" onmouseover=\"this.style.backgroundColor='#BA9BF8'\" onmouseout=\"this.style.backgroundColor='#9D6CFF'\" onclick=\"window.commands?.execute('create-mitosheet-from-dataframe-output');\">See Full Dataframe in Mito</div> <script> if (window.commands?.hasCommand('create-mitosheet-from-dataframe-output')) document.getElementById('023233a9-53db-4099-95f6-96d5b336fdb7').style.display = 'flex' </script> <table border=\"1\" class=\"dataframe\">\n",
       "  <thead>\n",
       "    <tr style=\"text-align: right;\">\n",
       "      <th></th>\n",
       "      <th>count</th>\n",
       "      <th>mean</th>\n",
       "      <th>std</th>\n",
       "      <th>min</th>\n",
       "      <th>25%</th>\n",
       "      <th>50%</th>\n",
       "      <th>75%</th>\n",
       "      <th>max</th>\n",
       "    </tr>\n",
       "    <tr>\n",
       "      <th>Product Family</th>\n",
       "      <th></th>\n",
       "      <th></th>\n",
       "      <th></th>\n",
       "      <th></th>\n",
       "      <th></th>\n",
       "      <th></th>\n",
       "      <th></th>\n",
       "      <th></th>\n",
       "    </tr>\n",
       "  </thead>\n",
       "  <tbody>\n",
       "    <tr>\n",
       "      <th>Accessories</th>\n",
       "      <td>84.0</td>\n",
       "      <td>9.767673e+04</td>\n",
       "      <td>1.011560e+05</td>\n",
       "      <td>455.0</td>\n",
       "      <td>37217.5</td>\n",
       "      <td>68580.0</td>\n",
       "      <td>121095.0</td>\n",
       "      <td>642150.0</td>\n",
       "    </tr>\n",
       "    <tr>\n",
       "      <th>Digital Media</th>\n",
       "      <td>53.0</td>\n",
       "      <td>3.096204e+05</td>\n",
       "      <td>3.981001e+05</td>\n",
       "      <td>2800.0</td>\n",
       "      <td>88200.0</td>\n",
       "      <td>196800.0</td>\n",
       "      <td>310920.0</td>\n",
       "      <td>1981000.0</td>\n",
       "    </tr>\n",
       "    <tr>\n",
       "      <th>Laptops</th>\n",
       "      <td>82.0</td>\n",
       "      <td>2.016034e+06</td>\n",
       "      <td>1.434275e+06</td>\n",
       "      <td>80000.0</td>\n",
       "      <td>1259675.0</td>\n",
       "      <td>1787325.0</td>\n",
       "      <td>2488037.5</td>\n",
       "      <td>10221250.0</td>\n",
       "    </tr>\n",
       "    <tr>\n",
       "      <th>Phones</th>\n",
       "      <td>57.0</td>\n",
       "      <td>5.936570e+05</td>\n",
       "      <td>4.851708e+05</td>\n",
       "      <td>14000.0</td>\n",
       "      <td>233100.0</td>\n",
       "      <td>436275.0</td>\n",
       "      <td>864500.0</td>\n",
       "      <td>2004500.0</td>\n",
       "    </tr>\n",
       "    <tr>\n",
       "      <th>Tablets</th>\n",
       "      <td>69.0</td>\n",
       "      <td>7.893058e+05</td>\n",
       "      <td>8.347671e+05</td>\n",
       "      <td>9000.0</td>\n",
       "      <td>267750.0</td>\n",
       "      <td>654600.0</td>\n",
       "      <td>987700.0</td>\n",
       "      <td>4622300.0</td>\n",
       "    </tr>\n",
       "  </tbody>\n",
       "</table></div>"
      ],
      "text/plain": [
       "                count          mean           std      min        25%  \\\n",
       "Product Family                                                          \n",
       "Accessories      84.0  9.767673e+04  1.011560e+05    455.0    37217.5   \n",
       "Digital Media    53.0  3.096204e+05  3.981001e+05   2800.0    88200.0   \n",
       "Laptops          82.0  2.016034e+06  1.434275e+06  80000.0  1259675.0   \n",
       "Phones           57.0  5.936570e+05  4.851708e+05  14000.0   233100.0   \n",
       "Tablets          69.0  7.893058e+05  8.347671e+05   9000.0   267750.0   \n",
       "\n",
       "                      50%        75%         max  \n",
       "Product Family                                    \n",
       "Accessories       68580.0   121095.0    642150.0  \n",
       "Digital Media    196800.0   310920.0   1981000.0  \n",
       "Laptops         1787325.0  2488037.5  10221250.0  \n",
       "Phones           436275.0   864500.0   2004500.0  \n",
       "Tablets          654600.0   987700.0   4622300.0  "
      ]
     },
     "execution_count": 29,
     "metadata": {},
     "output_type": "execute_result"
    }
   ],
   "source": [
    "data.groupby('Product Family')['Total Price'].describe()"
   ]
  }
 ],
 "metadata": {
  "kernelspec": {
   "display_name": "Python 3",
   "language": "python",
   "name": "python3"
  },
  "language_info": {
   "codemirror_mode": {
    "name": "ipython",
    "version": 3
   },
   "file_extension": ".py",
   "mimetype": "text/x-python",
   "name": "python",
   "nbconvert_exporter": "python",
   "pygments_lexer": "ipython3",
   "version": "3.10.6"
  },
  "orig_nbformat": 4,
  "vscode": {
   "interpreter": {
    "hash": "bb8318c86f3c5f0d51897a74c1a132cbf2f6a37205b70cdb365bea223b185e68"
   }
  }
 },
 "nbformat": 4,
 "nbformat_minor": 2
}
